{
 "cells": [
  {
   "cell_type": "code",
   "execution_count": null,
   "id": "8857a298-1c1d-4962-b7c9-b93ad2a7187a",
   "metadata": {},
   "outputs": [],
   "source": [
    "import pandas as pd\n",
    "\n",
    "# Load the CSV file\n",
    "df = pd.read_csv('2001_2023_MPCB_Unclean.csv')\n",
    "\n",
    "# Drop unnamed columns\n",
    "unnamed_columns = [col for col in df.columns if 'Unnamed' in col]\n",
    "df = df.drop(columns=unnamed_columns)"
   ]
  },
  {
   "cell_type": "code",
   "execution_count": null,
   "id": "82a5b8ca-b9e2-44b4-a938-1a879af395fa",
   "metadata": {},
   "outputs": [],
   "source": [
    "# Display the first few rows and basic info\n",
    "df.head()"
   ]
  },
  {
   "cell_type": "code",
   "execution_count": null,
   "id": "0f307884-b764-4c85-b13f-ca1d0b118f5f",
   "metadata": {},
   "outputs": [],
   "source": [
    "df.tail(10)"
   ]
  },
  {
   "cell_type": "code",
   "execution_count": null,
   "id": "034b7e82-d7ff-4d02-bc00-d3e7ba78d5e6",
   "metadata": {},
   "outputs": [],
   "source": [
    "df.info()"
   ]
  },
  {
   "cell_type": "code",
   "execution_count": null,
   "id": "122cafcf-4165-4434-8033-3479f34ec3cc",
   "metadata": {},
   "outputs": [],
   "source": [
    "df.shape"
   ]
  },
  {
   "cell_type": "code",
   "execution_count": null,
   "id": "d7a9e535-1b1e-4a27-abca-378b472462a9",
   "metadata": {},
   "outputs": [],
   "source": [
    "df.isnull().sum()"
   ]
  },
  {
   "cell_type": "code",
   "execution_count": null,
   "id": "c51b55c6-eb97-4a9e-acd7-8bd0d14fc8c7",
   "metadata": {},
   "outputs": [],
   "source": [
    "df.drop(['Month_name'],axis=1,inplace=True)"
   ]
  },
  {
   "cell_type": "code",
   "execution_count": null,
   "id": "60322b93-7841-4e11-adb4-e4f3baca1551",
   "metadata": {},
   "outputs": [],
   "source": [
    "condition = df.astype(str).apply(lambda row: row.str.contains('Min Max Avg|Max Avg|Min|Max|Avg|Total', na=False)).any(axis=1)\n",
    "df = df[~condition]"
   ]
  },
  {
   "cell_type": "code",
   "execution_count": null,
   "id": "a63264be-1e77-4367-8d55-8db27c1f2fef",
   "metadata": {},
   "outputs": [],
   "source": [
    "df.shape"
   ]
  },
  {
   "cell_type": "code",
   "execution_count": null,
   "id": "0fad118d-2db5-45e3-bcd3-df4eb148246d",
   "metadata": {},
   "outputs": [],
   "source": [
    "last_5_columns = df.columns[-5:]\n",
    "\n",
    "# Drop rows where all values in the last 5 columns are NaN\n",
    "df = df.dropna(how='all', subset=last_5_columns)"
   ]
  },
  {
   "cell_type": "code",
   "execution_count": null,
   "id": "29e6b381-9e67-4fe8-b840-6ae4dc9f5f88",
   "metadata": {},
   "outputs": [],
   "source": [
    "df.isnull().sum()"
   ]
  },
  {
   "cell_type": "code",
   "execution_count": null,
   "id": "0025defa-6188-49ff-a43c-04c2011bb293",
   "metadata": {},
   "outputs": [],
   "source": [
    "df.shape"
   ]
  },
  {
   "cell_type": "code",
   "execution_count": null,
   "id": "63c4f4ad-c878-4da0-b15a-f261d423d26f",
   "metadata": {},
   "outputs": [],
   "source": [
    "columns_to_fill = ['SO2', 'Nox', 'RSPM', 'SPM', 'AQI']\n",
    "\n",
    "# Convert columns to numeric, forcing non-numeric values to NaN\n",
    "for col in columns_to_fill:\n",
    "    df[col] = pd.to_numeric(df[col], errors='coerce')\n",
    "\n",
    "# Fill missing values by group mean\n",
    "for col in columns_to_fill:\n",
    "    means = df.groupby('Places')[col].transform('mean')\n",
    "    df[col].fillna(means, inplace=True)\n",
    "\n",
    "# Convert float values to integers\n",
    "for col in columns_to_fill:\n",
    "    df[col] = df[col].round().astype('Int64')  # Use 'Int64' to retain NaN values if any"
   ]
  },
  {
   "cell_type": "code",
   "execution_count": null,
   "id": "ae4e7193-59ca-4931-bf19-898a5a5ee112",
   "metadata": {},
   "outputs": [],
   "source": [
    "df.isnull().sum()"
   ]
  },
  {
   "cell_type": "code",
   "execution_count": null,
   "id": "fe0abaa5-3959-41dd-b9ea-0da9a0da335e",
   "metadata": {},
   "outputs": [],
   "source": [
    "df['AQI'] = pd.to_numeric(df['AQI'], errors='coerce')\n",
    "\n",
    "# Calculate mean AQI for each place\n",
    "mean_aqi_by_place = df.groupby('Places')['AQI'].mean().reset_index()\n",
    "\n",
    "# Rename columns for clarity\n",
    "mean_aqi_by_place.columns = ['Place', 'Mean_AQI']\n",
    "\n",
    "# Print the result\n",
    "print(mean_aqi_by_place)"
   ]
  },
  {
   "cell_type": "code",
   "execution_count": null,
   "id": "2185f72f-c535-4adb-8763-b725461e382c",
   "metadata": {},
   "outputs": [],
   "source": [
    "df = df.dropna(subset=['AQI'])"
   ]
  },
  {
   "cell_type": "code",
   "execution_count": null,
   "id": "12fdb288-83ff-464e-b5cf-ef10b392ce84",
   "metadata": {},
   "outputs": [],
   "source": [
    "df.shape"
   ]
  },
  {
   "cell_type": "code",
   "execution_count": null,
   "id": "8802bd27-21f5-4c34-a3f9-f9041178289d",
   "metadata": {},
   "outputs": [],
   "source": [
    "df.isnull().sum()"
   ]
  },
  {
   "cell_type": "code",
   "execution_count": null,
   "id": "fe074db2-40bb-4d07-9695-1a657ec788c6",
   "metadata": {},
   "outputs": [],
   "source": [
    "df['Date'] = pd.to_datetime(df['Date'], format='%d-%m-%Y', errors='coerce')\n"
   ]
  },
  {
   "cell_type": "code",
   "execution_count": null,
   "id": "33dafc8b-016a-4b42-bf81-8ece4a57e731",
   "metadata": {},
   "outputs": [],
   "source": [
    "df.shape"
   ]
  },
  {
   "cell_type": "code",
   "execution_count": null,
   "id": "d1f043fa-adca-48f0-8ff1-ba97fcc23c91",
   "metadata": {},
   "outputs": [],
   "source": [
    "df.dropna(subset=['Date'], inplace=True)\n"
   ]
  },
  {
   "cell_type": "code",
   "execution_count": null,
   "id": "c676452f-10fa-4d90-b293-4a0705db792e",
   "metadata": {},
   "outputs": [],
   "source": [
    "df.shape"
   ]
  },
  {
   "cell_type": "code",
   "execution_count": null,
   "id": "c5226055-1569-42de-b5e9-f91367fcd486",
   "metadata": {},
   "outputs": [],
   "source": [
    "print(df.isnull().sum())"
   ]
  },
  {
   "cell_type": "code",
   "execution_count": null,
   "id": "e2e0d99b-f4b7-4861-915d-c6365a957152",
   "metadata": {},
   "outputs": [],
   "source": [
    "df.drop_duplicates(inplace=True)\n"
   ]
  },
  {
   "cell_type": "code",
   "execution_count": null,
   "id": "3e3f87a8-06f0-4486-babe-be712b537e7f",
   "metadata": {},
   "outputs": [],
   "source": [
    "df.shape"
   ]
  },
  {
   "cell_type": "code",
   "execution_count": null,
   "id": "71e0c96d-2a23-4b4f-a32c-e37c7e3b8527",
   "metadata": {},
   "outputs": [],
   "source": [
    "import matplotlib.pyplot as plt\n",
    "import seaborn as sns\n",
    "\n",
    "# Boxplots for detecting outliers\n",
    "plt.figure(figsize=(8, 6))\n",
    "sns.boxplot(data=df[['SO2', 'Nox', 'RSPM', 'SPM', 'AQI']])\n",
    "plt.title('Boxplots of Features')\n",
    "plt.show()"
   ]
  },
  {
   "cell_type": "code",
   "execution_count": null,
   "id": "da01b35f-ebbb-4667-8305-8f630d18afc7",
   "metadata": {},
   "outputs": [],
   "source": [
    "df.shape"
   ]
  },
  {
   "cell_type": "code",
   "execution_count": null,
   "id": "5bc0e383-c753-4537-b34a-32d542c48e60",
   "metadata": {},
   "outputs": [],
   "source": [
    "\n",
    "# Histograms of features\n",
    "df.hist(bins=30, figsize=(8, 6), edgecolor='black')\n",
    "plt.suptitle('Feature Distributions')\n",
    "plt.show()\n"
   ]
  },
  {
   "cell_type": "code",
   "execution_count": null,
   "id": "170ce025-5041-4bb3-bc1f-2f9d1a8277fa",
   "metadata": {},
   "outputs": [],
   "source": [
    "# Scatter plots to understand relationships between features and AQI\n",
    "plt.figure(figsize=(8, 6))\n",
    "for i, column in enumerate(['SO2', 'Nox', 'RSPM', 'SPM']):\n",
    "    plt.subplot(2, 2, i+1)\n",
    "    sns.scatterplot(x=df[column], y=df['AQI'])\n",
    "    plt.title(f'{column} vs AQI')\n",
    "    plt.xlabel(column)\n",
    "    plt.ylabel('AQI')\n",
    "plt.tight_layout()\n",
    "plt.show()\n"
   ]
  },
  {
   "cell_type": "code",
   "execution_count": null,
   "id": "db645879-f574-410a-829d-c769c1af22d0",
   "metadata": {},
   "outputs": [],
   "source": [
    "# Label Encoding for City and AQI_Bucket\n",
    "from sklearn.preprocessing import LabelEncoder\n",
    "\n",
    "Places_encoder = LabelEncoder()\n",
    "df['Places'] = Places_encoder.fit_transform(df['Places'])"
   ]
  },
  {
   "cell_type": "code",
   "execution_count": null,
   "id": "19d3fc39-8fc3-4ccb-8dcc-c88d63e81631",
   "metadata": {},
   "outputs": [],
   "source": [
    "df.corr()"
   ]
  },
  {
   "cell_type": "code",
   "execution_count": null,
   "id": "8116b6ea-2b96-438f-9b64-fa351b4cf4a0",
   "metadata": {},
   "outputs": [],
   "source": [
    "# Correlation matrix\n",
    "plt.figure(figsize=(8, 6))\n",
    "correlation_matrix = df.corr()\n",
    "sns.heatmap(correlation_matrix, annot=True, cmap='coolwarm', fmt='.2f')\n",
    "plt.title('Correlation Matrix')\n",
    "plt.show()\n"
   ]
  },
  {
   "cell_type": "code",
   "execution_count": null,
   "id": "1dd00d7c-6002-432a-8b93-26976a9a1d27",
   "metadata": {},
   "outputs": [],
   "source": [
    "# Drop 'Date' and 'Places' columns\n",
    "df = df.drop(columns=['Date', 'Places'])"
   ]
  },
  {
   "cell_type": "code",
   "execution_count": null,
   "id": "de01a00c-541e-4b0b-b7e5-77c8a0825393",
   "metadata": {},
   "outputs": [],
   "source": [
    "# Split features and target variable\n",
    "X = df.drop(columns=['AQI'])\n",
    "y = df['AQI']\n"
   ]
  },
  {
   "cell_type": "code",
   "execution_count": null,
   "id": "724b43c1-faf5-439f-a956-9a1b91254b13",
   "metadata": {},
   "outputs": [],
   "source": [
    "from sklearn.model_selection import train_test_split\n",
    "\n",
    "# Split data into training and test sets\n",
    "X_train, X_test, y_train, y_test = train_test_split(X, y, test_size=0.2, random_state=42)\n"
   ]
  },
  {
   "cell_type": "code",
   "execution_count": null,
   "id": "8eb37bdb-c23b-4c3f-bb98-b646a6ddfae6",
   "metadata": {},
   "outputs": [],
   "source": [
    "from sklearn.ensemble import RandomForestRegressor\n",
    "\n",
    "# Initialize and train the RandomForestRegressor\n",
    "model = RandomForestRegressor(n_estimators=100, random_state=42)\n",
    "model.fit(X_train, y_train)\n"
   ]
  },
  {
   "cell_type": "code",
   "execution_count": null,
   "id": "7549a261-ad3a-466c-bcef-cecc6b72de96",
   "metadata": {},
   "outputs": [],
   "source": [
    "from sklearn.metrics import mean_squared_error, r2_score\n",
    "\n",
    "# Predictions on the training data\n",
    "y_train_pred = model.predict(X_train)\n",
    "\n",
    "# Evaluate on training data\n",
    "mse_train = mean_squared_error(y_train, y_train_pred)\n",
    "r2_train = r2_score(y_train, y_train_pred)\n",
    "print(f\"Training Mean Squared Error: {mse_train}\")\n",
    "print(f\"Training R^2 Score: {r2_train}\")"
   ]
  },
  {
   "cell_type": "code",
   "execution_count": null,
   "id": "5a618b37-c282-4485-ba1f-e30bc3558436",
   "metadata": {},
   "outputs": [],
   "source": [
    "y_test_pred = model.predict(X_test)\n",
    "\n",
    "# Evaluate on test data\n",
    "mse_test = mean_squared_error(y_test, y_test_pred)\n",
    "r2_test = r2_score(y_test, y_test_pred)\n",
    "print(f\"Test Mean Squared Error: {mse_test}\")\n",
    "print(f\"Test R^2 Score: {r2_test}\")\n"
   ]
  },
  {
   "cell_type": "code",
   "execution_count": null,
   "id": "bf07b50b-ebf0-4e56-aecd-159fd09f63bf",
   "metadata": {},
   "outputs": [],
   "source": [
    "from sklearn.metrics import mean_absolute_error, mean_squared_error, r2_score\n",
    "import numpy as np\n",
    "\n",
    "# Make predictions\n",
    "y_test_pred = model.predict(X_test)\n",
    "\n",
    "# Evaluate on test data\n",
    "mae_test = mean_absolute_error(y_test, y_test_pred)\n",
    "mse_test = mean_squared_error(y_test, y_test_pred)\n",
    "rmse_test = np.sqrt(mse_test)\n",
    "r2_test = r2_score(y_test, y_test_pred)\n",
    "\n",
    "print(f\"Test Mean Absolute Error (MAE): {mae_test}\")\n",
    "print(f\"Test Mean Squared Error (MSE): {mse_test}\")\n",
    "print(f\"Test Root Mean Squared Error (RMSE): {rmse_test}\")\n",
    "print(f\"Test R^2 Score: {r2_test}\")"
   ]
  },
  {
   "cell_type": "code",
   "execution_count": null,
   "id": "9e06bad3-f512-4b52-b3ba-73a9eaa9983b",
   "metadata": {},
   "outputs": [],
   "source": [
    "if r2_train > r2_test + 0.1:  # adjust threshold as needed\n",
    "    print(\"The model might be overfitting.\")\n",
    "else:\n",
    "    print(\"The model seems to generalize well.\")"
   ]
  },
  {
   "cell_type": "code",
   "execution_count": null,
   "id": "908f909a-926b-4529-86a8-1adcaa12fa3f",
   "metadata": {},
   "outputs": [],
   "source": [
    "# Residuals plot\n",
    "plt.figure(figsize=(10, 6))\n",
    "residuals = y_test - y_test_pred\n",
    "sns.scatterplot(x=y_test_pred, y=residuals)\n",
    "plt.axhline(0, color='red', linestyle='--')\n",
    "plt.title('Residuals Plot')\n",
    "plt.xlabel('Predicted AQI')\n",
    "plt.ylabel('Residuals')\n",
    "plt.show()"
   ]
  },
  {
   "cell_type": "code",
   "execution_count": null,
   "id": "dc0e6310-7269-4b9a-b95d-f11b09fd9660",
   "metadata": {
    "scrolled": true
   },
   "outputs": [],
   "source": [
    "# Actual vs Predicted plot\n",
    "plt.figure(figsize=(10, 6))\n",
    "plt.scatter(y_test, y_test_pred, alpha=0.7)\n",
    "plt.plot([y_test.min(), y_test.max()], [y_test.min(), y_test.max()], '--k')\n",
    "plt.title('Actual vs Predicted AQI')\n",
    "plt.xlabel('Actual AQI')\n",
    "plt.ylabel('Predicted AQI')\n",
    "plt.show()\n"
   ]
  },
  {
   "cell_type": "code",
   "execution_count": null,
   "id": "d56c4a6d-2c90-42fc-bf64-5907d6496989",
   "metadata": {},
   "outputs": [],
   "source": [
    "import pickle\n",
    "\n",
    "# To pickle the model\n",
    "with open('model.pkl', 'wb') as file:\n",
    "    pickle.dump(model, file)\n"
   ]
  },
  {
   "cell_type": "code",
   "execution_count": null,
   "id": "1353a801-b266-40a0-906c-9b18e7ae23a8",
   "metadata": {},
   "outputs": [],
   "source": [
    "with open('model.pkl', 'rb') as file:\n",
    "    loaded_model = pickle.load(file)"
   ]
  },
  {
   "cell_type": "code",
   "execution_count": null,
   "id": "cb075bb4-b948-468d-ac43-2c1609de823e",
   "metadata": {},
   "outputs": [],
   "source": [
    "import numpy as np\n",
    "\n",
    "# Example input (1D array with multiple features)\n",
    "input_data = np.array([7., 9., 117., 211.])  # Example feature values\n",
    "\n",
    "# Reshape the input data to a 2D array with shape (1, number_of_features)\n",
    "input_data_reshaped = input_data.reshape(1, -1)\n",
    "\n",
    "# Use the reshaped data for prediction\n",
    "prediction = loaded_model.predict(input_data_reshaped)\n",
    "print(f\"Prediction: {prediction}\")\n"
   ]
  },
  {
   "cell_type": "code",
   "execution_count": null,
   "id": "55ad3369-1416-4d3c-808a-b0a62928704f",
   "metadata": {},
   "outputs": [],
   "source": []
  }
 ],
 "metadata": {
  "kernelspec": {
   "display_name": "Python 3 (ipykernel)",
   "language": "python",
   "name": "python3"
  },
  "language_info": {
   "codemirror_mode": {
    "name": "ipython",
    "version": 3
   },
   "file_extension": ".py",
   "mimetype": "text/x-python",
   "name": "python",
   "nbconvert_exporter": "python",
   "pygments_lexer": "ipython3",
   "version": "3.10.12"
  }
 },
 "nbformat": 4,
 "nbformat_minor": 5
}
